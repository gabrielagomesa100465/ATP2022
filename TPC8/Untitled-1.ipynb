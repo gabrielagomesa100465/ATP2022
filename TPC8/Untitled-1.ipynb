{
 "cells": [
  {
   "cell_type": "markdown",
   "metadata": {},
   "source": [
    "### tpc1.a) Recebe duas strings, _s1_ e _s2_, e retorna o comprimento da substring inicial de _s1_ que não contem nenhum caráter de _s2_:\n"
   ]
  },
  {
   "cell_type": "code",
   "execution_count": 39,
   "metadata": {},
   "outputs": [
    {
     "data": {
      "text/plain": [
       "4"
      ]
     },
     "execution_count": 39,
     "metadata": {},
     "output_type": "execute_result"
    }
   ],
   "source": [
    "def inicDiferente(s1, s2):\n",
    "    res = 0\n",
    "    n = 0\n",
    "    string1 = []\n",
    "    string2 = []\n",
    "    for carater in s1:\n",
    "        string1.append(carater)\n",
    "    for carater in s2:\n",
    "        string2.append(carater)\n",
    "    while string1[n] != string2[n]:\n",
    "        res = res + 1\n",
    "        n = n + 1\n",
    "    return res\n",
    "\n",
    "inicDiferente(\"Está um bom dia...\", \"Hoje é um dia alegre.\")\n",
    "# resultado esperado: 4"
   ]
  },
  {
   "cell_type": "markdown",
   "metadata": {},
   "source": [
    "### tpc1.b) Recebe um parâmetro _n_ e lê _n_ números inteiros; no fim retorna quantos dos números lidos são superiores à média dos números lidos:"
   ]
  },
  {
   "cell_type": "code",
   "execution_count": 42,
   "metadata": {},
   "outputs": [
    {
     "data": {
      "text/plain": [
       "2"
      ]
     },
     "execution_count": 42,
     "metadata": {},
     "output_type": "execute_result"
    }
   ],
   "source": [
    "def acimaMedia(n):\n",
    "    lista = []\n",
    "    aux = n\n",
    "    soma = 0\n",
    "    res = 0\n",
    "    while aux > 0:\n",
    "        num = int(input(\"Introduza o número\"))\n",
    "        lista.append(num)\n",
    "        soma = soma + num\n",
    "        aux = aux - 1\n",
    "    média = soma/n\n",
    "    for n in lista:\n",
    "        if n > média:\n",
    "            res = res + 1\n",
    "    \n",
    "    return res \n",
    "\n",
    "acimaMedia(5)"
   ]
  },
  {
   "cell_type": "markdown",
   "metadata": {},
   "source": [
    "### tpc1.c) Faz o merge de duas listas ordenadas, retornando uma lista ordenada com os elementos das duas listas (__não podes usar nenhuma função de ordenação do Python__):"
   ]
  },
  {
   "cell_type": "code",
   "execution_count": 45,
   "metadata": {},
   "outputs": [
    {
     "name": "stdout",
     "output_type": "stream",
     "text": [
      "[1, 2, 3, 4, 6, 7, 9, 12]\n"
     ]
    }
   ],
   "source": [
    "def merge(l1, l2):\n",
    "        lista = l1 + l2\n",
    "        comprimentoInicial = len(lista)\n",
    "        listaOrdenada = []\n",
    "        while len(listaOrdenada) < comprimentoInicial:\n",
    "                menor = lista[0]\n",
    "                for elem in lista[1:]:\n",
    "                        if elem < menor:\n",
    "                                menor = elem\n",
    "                listaOrdenada.append(menor)\n",
    "                lista.remove(menor)\n",
    "        return print(listaOrdenada)\n",
    "        \n",
    "\n",
    "merge([1,2,6,9], [3,4,7,12])\n",
    "# Resultado esperado: [1,2,3,4,6,7,9,12]"
   ]
  },
  {
   "cell_type": "markdown",
   "metadata": {},
   "source": [
    "### tpc1.d) Recebe o nome de dois ficheiros de texto, _f1_ e _f2_, e indica se são iguais (__True__) no seu conteúdo ou se são diferentes (__False__):"
   ]
  },
  {
   "cell_type": "code",
   "execution_count": 46,
   "metadata": {},
   "outputs": [],
   "source": [
    "def figuais(f1, f2):\n",
    "    texto1 = open(f1, encoding = 'UTF-8')\n",
    "    texto2 = open(f2, encoding = 'UTF-8')\n",
    "    listaTexto1 = []\n",
    "    listaTexto2 = []\n",
    "    n = 0\n",
    "    res = True\n",
    "    for row in texto1:\n",
    "        listaTexto1.append(row)\n",
    "    for row in texto2:\n",
    "        listaTexto2.append(row)\n",
    "    while n < len(listaTexto1):\n",
    "        if listaTexto1[n] != listaTexto2[n]:\n",
    "            res = False\n",
    "        n = n + 1\n",
    "    return res\n",
    "\n",
    "#print(figuais(\"texto1.txt\", \"texto1.txt\"))\n",
    "#print(figuais(\"texto1.txt\", \"texto2.txt\"))"
   ]
  },
  {
   "cell_type": "markdown",
   "metadata": {},
   "source": [
    "## Questão 2: Gestão de uma Cinemateca\n",
    "\n",
    "Analise as seguintes estruturas de dados que materializam o modelo de uma cinemateca:"
   ]
  },
  {
   "cell_type": "code",
   "execution_count": 5,
   "metadata": {},
   "outputs": [],
   "source": [
    "# Cinemateca = [Filme]\n",
    "# Pub = (Título, Ano, Elenco, Géneros)\n",
    "# Título = String\n",
    "# Ano = Int\n",
    "# Elenco = [Ator]\n",
    "# Ator = String\n",
    "# Géneros = [Género]\n",
    "# Género = String\n",
    "Filme1 = (\"Meet the Parents\", 2000, [\"Ben Stiller\",\"Robert De Niro\",\n",
    "      \"Blythe Danner\",\"Teri Polo\",\"Owen Wilson\"], [\"Comedy\", \"Drama\"])\n",
    "Filme2 = (\"Men of Honor\", 2000, [\"Robert De Niro\",\"Cuba Gooding, Jr.\",\n",
    "      \"Charlize Theron\"], [\"Biography\", \"Drama\", \"Thriller\"])\n",
    "Filme3 = (\"Analyze That\", 2002, [\"Robert De Niro\",\"Billy Crystal\",\n",
    "      \"Lisa Kudrow\"], [\"Comedy\"])\n",
    "CineUM = [Filme1, Filme2, Filme3]"
   ]
  },
  {
   "cell_type": "markdown",
   "metadata": {},
   "source": [
    " e especifique funções que calculem o que se descreve a seguir:"
   ]
  },
  {
   "cell_type": "markdown",
   "metadata": {},
   "source": [
    "### tpc2.a)  Devolve uma lista dos atores participantes nos filmes armazenados, ordenada alfabeticamente e sem repetições:"
   ]
  },
  {
   "cell_type": "code",
   "execution_count": 11,
   "metadata": {},
   "outputs": [
    {
     "name": "stdout",
     "output_type": "stream",
     "text": [
      "['Ben Stiller', 'Billy Crystal', 'Blythe Danner', 'Charlize Theron', 'Cuba Gooding, Jr.', 'Lisa Kudrow', 'Owen Wilson', 'Robert De Niro', 'Teri Polo']\n"
     ]
    }
   ],
   "source": [
    "def atores(cinemateca):\n",
    "    res = []\n",
    "    for filme in CineUM:\n",
    "        título,ano,elenco,géneros = filme\n",
    "        for ator in elenco:\n",
    "            if ator not in res:\n",
    "                res.append(ator)\n",
    "    res.sort()\n",
    "    return res\n",
    "\n",
    "print(atores(CineUM))\n",
    "# Resultado esperado: ['Ben Stiller', 'Billy Crystal', 'Blythe Danner', 'Charlize Theron', 'Cuba Gooding, Jr.', 'Lisa Kudrow', 'Owen Wilson', 'Robert De Niro', 'Teri Polo']"
   ]
  },
  {
   "cell_type": "markdown",
   "metadata": {},
   "source": [
    "### tpc2.b)  Devolve uma lista de todos os títulos dos filmes, em ordem alfabética, e de um determinado género passado como argumento:"
   ]
  },
  {
   "cell_type": "code",
   "execution_count": 22,
   "metadata": {},
   "outputs": [
    {
     "name": "stdout",
     "output_type": "stream",
     "text": [
      "['Analyze That', 'Meet the Parents']\n"
     ]
    }
   ],
   "source": [
    "def listarPorGenero(cinemateca, genero):\n",
    "    res = []\n",
    "    for filme in cinemateca:\n",
    "        título,ano,elenco,tipos = filme\n",
    "        if genero in tipos:\n",
    "            res.append(título)\n",
    "    res.sort()\n",
    "    return res \n",
    "\n",
    "print(listarPorGenero(CineUM, \"Comedy\"))\n",
    "# Resultado esperado: ['Analyze That', 'Meet the Parents']\n"
   ]
  },
  {
   "cell_type": "markdown",
   "metadata": {},
   "source": [
    "### tpc2.c)  Devolve o título do filme com o maior elenco:"
   ]
  },
  {
   "cell_type": "code",
   "execution_count": 31,
   "metadata": {},
   "outputs": [
    {
     "name": "stdout",
     "output_type": "stream",
     "text": [
      "Meet the Parents\n"
     ]
    }
   ],
   "source": [
    "def maiorElenco( cinemateca ):\n",
    "    numatores = 0\n",
    "    for filme in cinemateca:\n",
    "        título,_,elenco,_ = filme\n",
    "        numatoresaux = len(elenco)\n",
    "        if numatoresaux >= numatores:\n",
    "            numatores = numatoresaux\n",
    "            maiorFilme = título\n",
    "\n",
    "\n",
    "    return maiorFilme\n",
    "\n",
    "print(maiorElenco(CineUM))\n",
    "# Resultado esperado: Meet the Parents"
   ]
  },
  {
   "cell_type": "markdown",
   "metadata": {},
   "source": [
    "### tpc2.d)  Calcula a distribuição de filmes por Género:"
   ]
  },
  {
   "cell_type": "code",
   "execution_count": 24,
   "metadata": {},
   "outputs": [
    {
     "name": "stdout",
     "output_type": "stream",
     "text": [
      "{'Comedy': 2, 'Drama': 2, 'Biography': 1, 'Thriller': 1}\n"
     ]
    }
   ],
   "source": [
    "def filmePorGenero( cinemateca ):\n",
    "    distrib = {}\n",
    "    for filme in cinemateca:\n",
    "        título,ano,elenco,tipos = filme\n",
    "        for genero in tipos:\n",
    "            if genero in distrib:\n",
    "                distrib[genero] = distrib[genero] + 1\n",
    "            else:\n",
    "                distrib[genero]= 1\n",
    "    return distrib\n",
    "print(filmePorGenero(CineUM))"
   ]
  },
  {
   "cell_type": "markdown",
   "metadata": {},
   "source": [
    "### tpc2.e)  Represente num gráfico de barras a distribuição calculada na alínea anterior (pode usar o material que entender das aulas):"
   ]
  },
  {
   "cell_type": "code",
   "execution_count": 29,
   "metadata": {},
   "outputs": [
    {
     "data": {
      "image/png": "[encoded data removed]",
      "text/plain": [
       "<Figure size 640x480 with 1 Axes>"
      ]
     },
     "metadata": {},
     "output_type": "display_data"
    }
   ],
   "source": [
    "import matplotlib.pyplot as plt\n",
    "def plotdistrib(distrib):\n",
    "    plt.bar(distrib.keys(), distrib.values(), color = 'blue')\n",
    "    plt.xticks([x for x in range(0, len(distrib.keys()))], distrib.keys(), rotation='horizontal')\n",
    "    plt.title(\"Gráfico da distribuição dos filmes por género\")\n",
    "    plt.show()\n",
    "plotdistrib(filmePorGenero(CineUM))"
   ]
  }
 ],
 "metadata": {
  "kernelspec": {
   "display_name": "Python 3.10.7 64-bit",
   "language": "python",
   "name": "python3"
  },
  "language_info": {
   "codemirror_mode": {
    "name": "ipython",
    "version": 3
   },
   "file_extension": ".py",
   "mimetype": "text/x-python",
   "name": "python",
   "nbconvert_exporter": "python",
   "pygments_lexer": "ipython3",
   "version": "3.10.7"
  },
  "orig_nbformat": 4,
  "vscode": {
   "interpreter": {
    "hash": "afb734500600fd355917ca529030176ea0ca205570884b88f2f6f7d791fd3fbe"
   }
  }
 },
 "nbformat": 4,
 "nbformat_minor": 2
}
