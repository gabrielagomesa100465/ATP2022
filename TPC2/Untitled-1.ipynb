{
 "cells": [
  {
   "cell_type": "code",
   "execution_count": null,
   "metadata": {},
   "outputs": [],
   "source": []
  },
  {
   "cell_type": "code",
   "execution_count": null,
   "id": "59aa95d5",
   "metadata": {},
   "outputs": [
    {
     "name": "stdout",
     "output_type": "stream",
     "text": [
      "O número que pensei é Maior\n",
      "O número que pensei é Maior\n",
      "O número que pensei é Menor\n",
      "O número que pensei é Menor\n",
      "O número que pensei é Maior\n",
      "O número que pensei é Menor\n",
      "Acertou\n",
      "Foram usadas 7 tentativas\n"
     ]
    }
   ],
   "source": [
    "import random\n",
    " \n",
    "num = random.randint (0 , 100)\n",
    "contador = 0\n",
    "while True :\n",
    "    contador = contador + 1\n",
    "    n = int(input(\"Digite um número: \"))\n",
    "    if n > num :\n",
    "        print (\"O número que pensei é Menor\")\n",
    "    elif n < num :\n",
    "        print (\"O número que pensei é Maior\")\n",
    "    else :\n",
    "        print (\"Acertou\")\n",
    "        break \n",
    "print (\"Foram usadas\" , contador , \"tentativas\")\n",
    "\n",
    "\n",
    "mínimo = 0\n",
    "máximo = 100\n",
    "num = int(input(\"O número é : \"))\n",
    "contador = 0\n",
    "while True :\n",
    "    contador = contador + 1\n",
    "    n = random.randint (0 , 100) \n",
    "    if n > num :\n",
    "        print (\"Escolheste o \" + str(n) + \"Tenta com um mais baixo\")\n",
    "        máximo = n - 1\n",
    "    elif n < num :\n",
    "        print (\"Escolheste o \" + str(n) + \"Tenta com um mais alto\")\n",
    "        mínimo = n + 1\n",
    "    else :\n",
    "        print (\"Acertou\")\n",
    "        break \n",
    "print (\"Foram usadas\" , contador , \"tentativas\")\n",
    "\n",
    "\n",
    "\n",
    "\n",
    "\n",
    "\n",
    "    \n"
   ]
  }
 ],
 "metadata": {
  "language_info": {
   "name": "python"
  },
  "orig_nbformat": 4
 },
 "nbformat": 4,
 "nbformat_minor": 2
}
